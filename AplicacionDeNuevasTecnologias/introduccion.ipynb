{
 "cells": [
  {
   "cell_type": "markdown",
   "metadata": {},
   "source": [
    "# Ejercicios basicos con python"
   ]
  },
  {
   "cell_type": "markdown",
   "metadata": {},
   "source": [
    "1. Implementar una función que tome un número entero positivo como parámetro y devuelva un\n",
    "booleano indicando si el número ingresado es par."
   ]
  },
  {
   "cell_type": "code",
   "execution_count": null,
   "metadata": {},
   "outputs": [],
   "source": [
    "def par_impar(num):\n",
    "    return num % 2 == 0\n",
    "\n",
    "par_impar(3)"
   ]
  },
  {
   "cell_type": "markdown",
   "metadata": {},
   "source": [
    "2. Implementar una función que tome un arreglo y devuelva la suma de todos sus elementos."
   ]
  },
  {
   "cell_type": "code",
   "execution_count": 2,
   "metadata": {},
   "outputs": [
    {
     "data": {
      "text/plain": [
       "15"
      ]
     },
     "execution_count": 2,
     "metadata": {},
     "output_type": "execute_result"
    }
   ],
   "source": [
    "def suma_arreglo(arreglo):\n",
    "    suma = 0\n",
    "    for i in arreglo:\n",
    "        suma += i\n",
    "    return suma\n",
    "\n",
    "suma_arreglo([1,2,3,4,5])"
   ]
  },
  {
   "cell_type": "markdown",
   "metadata": {},
   "source": [
    "3. Implementar una función que tome un arreglo y un valor. La función debe devolver la cantidad de\n",
    "veces que se repite el valor ingresado en el arreglo."
   ]
  },
  {
   "cell_type": "code",
   "execution_count": 5,
   "metadata": {},
   "outputs": [
    {
     "data": {
      "text/plain": [
       "4"
      ]
     },
     "execution_count": 5,
     "metadata": {},
     "output_type": "execute_result"
    }
   ],
   "source": [
    "def contar_repeticiones(arreglo, numero):\n",
    "    contador = 0\n",
    "    for i in arreglo:\n",
    "        if i == numero:\n",
    "            contador += 1\n",
    "    return contador\n",
    "\n",
    "contar_repeticiones([1,2,3,4,5,2,5,5,5], 5)"
   ]
  },
  {
   "cell_type": "markdown",
   "metadata": {},
   "source": [
    "4. Implementar una función que tome un arreglo y un valor. Debe devolver otro arreglo filtrando los elementos del array ingresado cuyos valores sean inferiores al valor ingresado por parámetro."
   ]
  },
  {
   "cell_type": "code",
   "execution_count": 7,
   "metadata": {},
   "outputs": [
    {
     "data": {
      "text/plain": [
       "[1, 2, 3, 4, 5]"
      ]
     },
     "execution_count": 7,
     "metadata": {},
     "output_type": "execute_result"
    }
   ],
   "source": [
    "def filtrar_arreglo(arreglo, valor):\n",
    "    nuevo_arreglo = []\n",
    "    for i in arreglo:\n",
    "        if i < valor:\n",
    "            nuevo_arreglo.append(i)\n",
    "    return nuevo_arreglo\n",
    "\n",
    "filtrar_arreglo([1,2,3,4,5,6,7,8,9], 6)"
   ]
  },
  {
   "cell_type": "markdown",
   "metadata": {},
   "source": [
    "6. Implementar una función que tome como parámetros dos arreglos de dos dimenciones (matrices) y\n",
    "devuelva la suma de ambas matrices."
   ]
  },
  {
   "cell_type": "code",
   "execution_count": 9,
   "metadata": {},
   "outputs": [
    {
     "data": {
      "text/plain": [
       "[[10, 10, 10], [10, 10, 10], [10, 10, 10]]"
      ]
     },
     "execution_count": 9,
     "metadata": {},
     "output_type": "execute_result"
    }
   ],
   "source": [
    "def sumar_matrices(matriz1, matriz2):\n",
    "    matriz_suma = []\n",
    "    for i in range(len(matriz1)):\n",
    "        fila = []\n",
    "        for j in range(len(matriz1[i])):\n",
    "            fila.append(matriz1[i][j] + matriz2[i][j])\n",
    "        matriz_suma.append(fila)\n",
    "    return matriz_suma\n",
    "\n",
    "sumar_matrices([[1,2,3],[4,5,6],[7,8,9]], [[9,8,7],[6,5,4],[3,2,1]])"
   ]
  },
  {
   "cell_type": "markdown",
   "metadata": {},
   "source": [
    "7. Implementar una función que tome como parámetros dos arreglos de dos dimenciones (matrices) y devuelva la multiplicación de ambas matrices."
   ]
  },
  {
   "cell_type": "code",
   "execution_count": 8,
   "metadata": {},
   "outputs": [
    {
     "data": {
      "text/plain": [
       "[[30, 24, 18], [84, 69, 54], [138, 114, 90]]"
      ]
     },
     "execution_count": 8,
     "metadata": {},
     "output_type": "execute_result"
    }
   ],
   "source": [
    "def multiplicar_matrices(matriz1, matriz2):\n",
    "    matriz_producto = []\n",
    "    for i in range(len(matriz1)):\n",
    "        fila = []\n",
    "        for j in range(len(matriz2[0])):\n",
    "            suma = 0\n",
    "            for k in range(len(matriz1[i])):\n",
    "                suma += matriz1[i][k] * matriz2[k][j]\n",
    "            fila.append(suma)\n",
    "        matriz_producto.append(fila)\n",
    "    return matriz_producto\n",
    "\n",
    "multiplicar_matrices([[1,2,3],[4,5,6],[7,8,9]], [[9,8,7],[6,5,4],[3,2,1]])"
   ]
  },
  {
   "cell_type": "markdown",
   "metadata": {},
   "source": [
    "## Ejercicios con Numpy\n",
    "Leer la documentación de la librería (o páginas confiables de internet) y realizar los siguientes ejercicios."
   ]
  },
  {
   "cell_type": "code",
   "execution_count": 2,
   "metadata": {},
   "outputs": [],
   "source": [
    "import numpy as np"
   ]
  },
  {
   "cell_type": "markdown",
   "metadata": {},
   "source": [
    "8. Crear un vector con valores dentro del rango 10 a 49"
   ]
  },
  {
   "cell_type": "code",
   "execution_count": 11,
   "metadata": {},
   "outputs": [
    {
     "data": {
      "text/plain": [
       "array([10, 11, 12, 13, 14, 15, 16, 17, 18, 19, 20, 21, 22, 23, 24, 25, 26,\n",
       "       27, 28, 29, 30, 31, 32, 33, 34, 35, 36, 37, 38, 39, 40, 41, 42, 43,\n",
       "       44, 45, 46, 47, 48, 49])"
      ]
     },
     "execution_count": 11,
     "metadata": {},
     "output_type": "execute_result"
    }
   ],
   "source": [
    "vector = np.arange(10, 50)\n",
    "vector"
   ]
  },
  {
   "cell_type": "markdown",
   "metadata": {},
   "source": [
    "9. Crear una matriz 3x3 con valores de 0 a 8"
   ]
  },
  {
   "cell_type": "code",
   "execution_count": 12,
   "metadata": {},
   "outputs": [
    {
     "data": {
      "text/plain": [
       "array([[0, 1, 2],\n",
       "       [3, 4, 5],\n",
       "       [6, 7, 8]])"
      ]
     },
     "execution_count": 12,
     "metadata": {},
     "output_type": "execute_result"
    }
   ],
   "source": [
    "matriz_3x3 = np.arange(9).reshape(3, 3)\n",
    "matriz_3x3"
   ]
  },
  {
   "cell_type": "markdown",
   "metadata": {},
   "source": [
    "10. Crear una matriz identidad de 6x6"
   ]
  },
  {
   "cell_type": "code",
   "execution_count": 13,
   "metadata": {},
   "outputs": [
    {
     "data": {
      "text/plain": [
       "array([[1., 0., 0., 0., 0., 0.],\n",
       "       [0., 1., 0., 0., 0., 0.],\n",
       "       [0., 0., 1., 0., 0., 0.],\n",
       "       [0., 0., 0., 1., 0., 0.],\n",
       "       [0., 0., 0., 0., 1., 0.],\n",
       "       [0., 0., 0., 0., 0., 1.]])"
      ]
     },
     "execution_count": 13,
     "metadata": {},
     "output_type": "execute_result"
    }
   ],
   "source": [
    "matriz_identidad_6x6 = np.eye(6)\n",
    "matriz_identidad_6x6"
   ]
  },
  {
   "cell_type": "markdown",
   "metadata": {},
   "source": [
    "12. Crear una matriz con valores al azar con forma 3x3x3"
   ]
  },
  {
   "cell_type": "code",
   "execution_count": 14,
   "metadata": {},
   "outputs": [
    {
     "data": {
      "text/plain": [
       "array([[[0.55734586, 0.04187099, 0.25302394],\n",
       "        [0.04842418, 0.1390037 , 0.2900713 ],\n",
       "        [0.00811657, 0.45745361, 0.25897871]],\n",
       "\n",
       "       [[0.97460841, 0.77828141, 0.94941706],\n",
       "        [0.69972975, 0.73243058, 0.5708848 ],\n",
       "        [0.62902018, 0.82213776, 0.09939129]],\n",
       "\n",
       "       [[0.00993801, 0.44718679, 0.07515382],\n",
       "        [0.82994531, 0.22334379, 0.02082584],\n",
       "        [0.67849439, 0.79738922, 0.06250767]]])"
      ]
     },
     "execution_count": 14,
     "metadata": {},
     "output_type": "execute_result"
    }
   ],
   "source": [
    "matriz_aleatoria_3x3x3 = np.random.random((3, 3, 3))\n",
    "matriz_aleatoria_3x3x3"
   ]
  },
  {
   "cell_type": "markdown",
   "metadata": {},
   "source": [
    "13. Encontrar los indices de los valores minimos y maximos de la anterior matriz"
   ]
  },
  {
   "cell_type": "code",
   "execution_count": 15,
   "metadata": {},
   "outputs": [
    {
     "data": {
      "text/plain": [
       "((0, 2, 0), (1, 0, 0))"
      ]
     },
     "execution_count": 15,
     "metadata": {},
     "output_type": "execute_result"
    }
   ],
   "source": [
    "indice_min = np.unravel_index(np.argmin(matriz_aleatoria_3x3x3), matriz_aleatoria_3x3x3.shape)\n",
    "indice_max = np.unravel_index(np.argmax(matriz_aleatoria_3x3x3), matriz_aleatoria_3x3x3.shape)\n",
    "\n",
    "indice_min, indice_max"
   ]
  },
  {
   "cell_type": "markdown",
   "metadata": {},
   "source": [
    "14. Crear dos arreglos al azar A y B, vericar si son iguales coordenada a coordenada."
   ]
  },
  {
   "cell_type": "code",
   "execution_count": null,
   "metadata": {},
   "outputs": [],
   "source": [
    "size = 10\n",
    "A = np.random.randint(5, size=size)\n",
    "B = np.random.randint(5, size=size)\n",
    "\n",
    "for n in range(size):\n",
    "    print(f\"Concidencia {n}: {A[n] == B[n]}\")"
   ]
  },
  {
   "cell_type": "markdown",
   "metadata": {},
   "source": [
    "15. Declarar 2 matrices y sumarlas utilizando la librería numpy."
   ]
  },
  {
   "cell_type": "code",
   "execution_count": 20,
   "metadata": {},
   "outputs": [
    {
     "data": {
      "text/plain": [
       "(array([[1, 0, 1],\n",
       "        [0, 1, 4],\n",
       "        [0, 4, 4]]),\n",
       " array([[4, 1, 3],\n",
       "        [4, 3, 3],\n",
       "        [1, 0, 4]]))"
      ]
     },
     "execution_count": 20,
     "metadata": {},
     "output_type": "execute_result"
    }
   ],
   "source": [
    "size = (3,3)\n",
    "\n",
    "m1 = np.random.randint(5, size=size)\n",
    "m2 = np.random.randint(5, size=size)\n",
    "(m1, m2)"
   ]
  },
  {
   "cell_type": "code",
   "execution_count": 21,
   "metadata": {},
   "outputs": [
    {
     "data": {
      "text/plain": [
       "array([[5., 1., 4.],\n",
       "       [4., 4., 7.],\n",
       "       [1., 4., 8.]])"
      ]
     },
     "execution_count": 21,
     "metadata": {},
     "output_type": "execute_result"
    }
   ],
   "source": [
    "mSuma = np.zeros(size)\n",
    "for i in range(size[0]):\n",
    "    for j in range(size[1]):\n",
    "        mSuma[i][j] = m1[i][j] + m2[i][j]\n",
    "\n",
    "mSuma"
   ]
  },
  {
   "cell_type": "markdown",
   "metadata": {},
   "source": [
    "16. Declarar 2 matrices y multiplicarlas utilizando la librería numpy."
   ]
  },
  {
   "cell_type": "code",
   "execution_count": 22,
   "metadata": {},
   "outputs": [
    {
     "data": {
      "text/plain": [
       "array([[ 5.,  1.,  7.],\n",
       "       [ 8.,  3., 19.],\n",
       "       [20., 12., 28.]])"
      ]
     },
     "execution_count": 22,
     "metadata": {},
     "output_type": "execute_result"
    }
   ],
   "source": [
    "mProducto = np.zeros(size)\n",
    "\n",
    "for i in range(size[0]):\n",
    "    for j in range(size[1]):\n",
    "        suma = 0\n",
    "        for k in range(size[0]):\n",
    "            suma += m1[i][k] * m2[k][j]\n",
    "        mProducto[i][j] = suma\n",
    "\n",
    "mProducto"
   ]
  }
 ],
 "metadata": {
  "kernelspec": {
   "display_name": "usr",
   "language": "python",
   "name": "python3"
  },
  "language_info": {
   "codemirror_mode": {
    "name": "ipython",
    "version": 3
   },
   "file_extension": ".py",
   "mimetype": "text/x-python",
   "name": "python",
   "nbconvert_exporter": "python",
   "pygments_lexer": "ipython3",
   "version": "3.13.2"
  }
 },
 "nbformat": 4,
 "nbformat_minor": 2
}
